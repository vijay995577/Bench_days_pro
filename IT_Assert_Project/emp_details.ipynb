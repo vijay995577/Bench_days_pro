{
 "cells": [
  {
   "cell_type": "code",
   "execution_count": 1,
   "id": "3629d5bd",
   "metadata": {},
   "outputs": [],
   "source": [
    "import pandas as pd\n",
    "data=pd.read_excel(\"Asset data - Copy.xlsx\")"
   ]
  },
  {
   "cell_type": "code",
   "execution_count": 2,
   "id": "db4e96ea",
   "metadata": {},
   "outputs": [
    {
     "data": {
      "text/html": [
       "<div>\n",
       "<style scoped>\n",
       "    .dataframe tbody tr th:only-of-type {\n",
       "        vertical-align: middle;\n",
       "    }\n",
       "\n",
       "    .dataframe tbody tr th {\n",
       "        vertical-align: top;\n",
       "    }\n",
       "\n",
       "    .dataframe thead th {\n",
       "        text-align: right;\n",
       "    }\n",
       "</style>\n",
       "<table border=\"1\" class=\"dataframe\">\n",
       "  <thead>\n",
       "    <tr style=\"text-align: right;\">\n",
       "      <th></th>\n",
       "      <th>SL#</th>\n",
       "      <th>invoces NO</th>\n",
       "      <th>DC NO</th>\n",
       "      <th>MCN</th>\n",
       "      <th>Description of Goods</th>\n",
       "      <th>QTY</th>\n",
       "      <th>Serial#</th>\n",
       "      <th>PTAG #</th>\n",
       "      <th>Received Date</th>\n",
       "      <th>Return Date</th>\n",
       "      <th>Received from</th>\n",
       "      <th>Status</th>\n",
       "      <th>Project #</th>\n",
       "      <th>Employee ID</th>\n",
       "      <th>=</th>\n",
       "    </tr>\n",
       "  </thead>\n",
       "  <tbody>\n",
       "    <tr>\n",
       "      <th>0</th>\n",
       "      <td>1</td>\n",
       "      <td>NaN</td>\n",
       "      <td>NaN</td>\n",
       "      <td>Data  Switch</td>\n",
       "      <td>CI-WS3650-48TS/K9: CISCO ONE CATALYST 3650 48 ...</td>\n",
       "      <td>1</td>\n",
       "      <td>FDO2215Q0E9</td>\n",
       "      <td>UC0074458</td>\n",
       "      <td>2019-02-21 00:00:00</td>\n",
       "      <td>NaN</td>\n",
       "      <td>Qualcomm</td>\n",
       "      <td>Issued</td>\n",
       "      <td>Android Upgrade Project</td>\n",
       "      <td>210458</td>\n",
       "      <td>priyanka vutkur</td>\n",
       "    </tr>\n",
       "    <tr>\n",
       "      <th>1</th>\n",
       "      <td>2</td>\n",
       "      <td>NaN</td>\n",
       "      <td>NaN</td>\n",
       "      <td>Plus switch</td>\n",
       "      <td>Plus switch</td>\n",
       "      <td>2</td>\n",
       "      <td>NaN</td>\n",
       "      <td>NaN</td>\n",
       "      <td>14/12/2021</td>\n",
       "      <td>NaN</td>\n",
       "      <td>Qualcomm</td>\n",
       "      <td>Issued</td>\n",
       "      <td>Android Upgrade Project</td>\n",
       "      <td>210459</td>\n",
       "      <td>Hrithik Jain</td>\n",
       "    </tr>\n",
       "    <tr>\n",
       "      <th>2</th>\n",
       "      <td>3</td>\n",
       "      <td>3P HYD 2122-138</td>\n",
       "      <td>DC HYD 2122-1847</td>\n",
       "      <td>MTP-QCS610.LA.2.0</td>\n",
       "      <td>10-PF787-1113: DTP,SM6150 IDP, EMCP,COSMO, MAK...</td>\n",
       "      <td>1</td>\n",
       "      <td>N10PG4KLW</td>\n",
       "      <td>EX0296731</td>\n",
       "      <td>2021-09-11 00:00:00</td>\n",
       "      <td>NaN</td>\n",
       "      <td>Qualcomm</td>\n",
       "      <td>Issued</td>\n",
       "      <td>Android Upgrade Project</td>\n",
       "      <td>210460</td>\n",
       "      <td>Dhonthula Pavan Kumar</td>\n",
       "    </tr>\n",
       "    <tr>\n",
       "      <th>3</th>\n",
       "      <td>4</td>\n",
       "      <td>NaN</td>\n",
       "      <td>NaN</td>\n",
       "      <td>MTP-QCS610.LA.2.0</td>\n",
       "      <td>10-PF787-1113: DTP,SM6150 IDP, EMCP,COSMO, MAK...</td>\n",
       "      <td>1</td>\n",
       "      <td>N10PGP3FY</td>\n",
       "      <td>EX0297868</td>\n",
       "      <td>2021-09-11 00:00:00</td>\n",
       "      <td>NaN</td>\n",
       "      <td>Qualcomm</td>\n",
       "      <td>Issued</td>\n",
       "      <td>Android Upgrade Project</td>\n",
       "      <td>210461</td>\n",
       "      <td>Vijay Balakula</td>\n",
       "    </tr>\n",
       "    <tr>\n",
       "      <th>4</th>\n",
       "      <td>5</td>\n",
       "      <td>NaN</td>\n",
       "      <td>NaN</td>\n",
       "      <td>MTP-QCS610.LA.2.0</td>\n",
       "      <td>10-PF787-1113: DTP,SM6150 IDP, EMCP,COSMO, MAK...</td>\n",
       "      <td>1</td>\n",
       "      <td>N10PGT14D</td>\n",
       "      <td>EX0297909</td>\n",
       "      <td>2021-09-11 00:00:00</td>\n",
       "      <td>NaN</td>\n",
       "      <td>Qualcomm</td>\n",
       "      <td>Issued</td>\n",
       "      <td>Android Upgrade Project</td>\n",
       "      <td>210462</td>\n",
       "      <td>Sandhya</td>\n",
       "    </tr>\n",
       "  </tbody>\n",
       "</table>\n",
       "</div>"
      ],
      "text/plain": [
       "   SL#       invoces NO             DC NO                MCN  \\\n",
       "0    1              NaN               NaN       Data  Switch   \n",
       "1    2              NaN               NaN        Plus switch   \n",
       "2    3  3P HYD 2122-138  DC HYD 2122-1847  MTP-QCS610.LA.2.0   \n",
       "3    4              NaN               NaN  MTP-QCS610.LA.2.0   \n",
       "4    5              NaN               NaN  MTP-QCS610.LA.2.0   \n",
       "\n",
       "                                Description of Goods  QTY      Serial#  \\\n",
       "0  CI-WS3650-48TS/K9: CISCO ONE CATALYST 3650 48 ...    1  FDO2215Q0E9   \n",
       "1                                        Plus switch    2          NaN   \n",
       "2  10-PF787-1113: DTP,SM6150 IDP, EMCP,COSMO, MAK...    1    N10PG4KLW   \n",
       "3  10-PF787-1113: DTP,SM6150 IDP, EMCP,COSMO, MAK...    1    N10PGP3FY   \n",
       "4  10-PF787-1113: DTP,SM6150 IDP, EMCP,COSMO, MAK...    1    N10PGT14D   \n",
       "\n",
       "      PTAG #        Received Date Return Date Received from   Status  \\\n",
       "0  UC0074458  2019-02-21 00:00:00         NaN      Qualcomm  Issued    \n",
       "1        NaN           14/12/2021         NaN      Qualcomm  Issued    \n",
       "2  EX0296731  2021-09-11 00:00:00         NaN      Qualcomm  Issued    \n",
       "3  EX0297868  2021-09-11 00:00:00         NaN      Qualcomm  Issued    \n",
       "4  EX0297909  2021-09-11 00:00:00         NaN      Qualcomm  Issued    \n",
       "\n",
       "                 Project #  Employee ID                      =  \n",
       "0  Android Upgrade Project       210458        priyanka vutkur  \n",
       "1  Android Upgrade Project       210459           Hrithik Jain  \n",
       "2  Android Upgrade Project       210460  Dhonthula Pavan Kumar  \n",
       "3  Android Upgrade Project       210461         Vijay Balakula  \n",
       "4  Android Upgrade Project       210462                Sandhya  "
      ]
     },
     "execution_count": 2,
     "metadata": {},
     "output_type": "execute_result"
    }
   ],
   "source": [
    "data.head()"
   ]
  },
  {
   "cell_type": "code",
   "execution_count": 3,
   "id": "fa32a8cc",
   "metadata": {},
   "outputs": [
    {
     "name": "stdout",
     "output_type": "stream",
     "text": [
      "<class 'pandas.core.frame.DataFrame'>\n",
      "RangeIndex: 43 entries, 0 to 42\n",
      "Data columns (total 15 columns):\n",
      " #   Column                Non-Null Count  Dtype \n",
      "---  ------                --------------  ----- \n",
      " 0   SL#                   43 non-null     int64 \n",
      " 1   invoces NO            3 non-null      object\n",
      " 2   DC NO                 3 non-null      object\n",
      " 3   MCN                   43 non-null     object\n",
      " 4   Description of Goods  43 non-null     object\n",
      " 5   QTY                   43 non-null     int64 \n",
      " 6   Serial#               42 non-null     object\n",
      " 7   PTAG #                42 non-null     object\n",
      " 8   Received Date         43 non-null     object\n",
      " 9   Return Date           38 non-null     object\n",
      " 10  Received from         43 non-null     object\n",
      " 11  Status                43 non-null     object\n",
      " 12  Project #             43 non-null     object\n",
      " 13  Employee ID           43 non-null     int64 \n",
      " 14  =                     24 non-null     object\n",
      "dtypes: int64(3), object(12)\n",
      "memory usage: 5.2+ KB\n"
     ]
    }
   ],
   "source": [
    "data.info()"
   ]
  },
  {
   "cell_type": "code",
   "execution_count": 4,
   "id": "72485cdd",
   "metadata": {},
   "outputs": [],
   "source": [
    "column_names=list(data.columns)"
   ]
  },
  {
   "cell_type": "code",
   "execution_count": 5,
   "id": "e1845438",
   "metadata": {},
   "outputs": [],
   "source": [
    "emp_details=dict(data.iloc[2,:])"
   ]
  },
  {
   "cell_type": "code",
   "execution_count": 6,
   "id": "72fbcc92",
   "metadata": {},
   "outputs": [
    {
     "data": {
      "text/plain": [
       "{'SL#': 3,\n",
       " 'invoces NO': '3P HYD 2122-138',\n",
       " 'DC NO': 'DC HYD 2122-1847',\n",
       " 'MCN': 'MTP-QCS610.LA.2.0',\n",
       " 'Description of Goods': '10-PF787-1113: DTP,SM6150 IDP, EMCP,COSMO, MAKUAL SMB1390, WCD9370,WSA8815,FHD+,12+13MP RFC, 13MP FFC, WCN3980, SDR660,CHINA APT (POST-SOD) +Power Charger (Adaptor)',\n",
       " 'QTY': 1,\n",
       " 'Serial#': 'N10PG4KLW',\n",
       " 'PTAG #': 'EX0296731',\n",
       " 'Received Date': datetime.datetime(2021, 9, 11, 0, 0),\n",
       " 'Return Date': nan,\n",
       " 'Received from': ' Qualcomm',\n",
       " 'Status': 'Issued ',\n",
       " 'Project #': 'Android Upgrade Project',\n",
       " 'Employee ID': 210460,\n",
       " '=': 'Dhonthula Pavan Kumar'}"
      ]
     },
     "execution_count": 6,
     "metadata": {},
     "output_type": "execute_result"
    }
   ],
   "source": [
    "emp_details"
   ]
  },
  {
   "cell_type": "code",
   "execution_count": 7,
   "id": "16c8003e",
   "metadata": {},
   "outputs": [
    {
     "data": {
      "text/plain": [
       "{'SL#': Series([], Name: SL#, dtype: int64),\n",
       " 'invoces NO': Series([], Name: invoces NO, dtype: object),\n",
       " 'DC NO': Series([], Name: DC NO, dtype: object),\n",
       " 'MCN': Series([], Name: MCN, dtype: object),\n",
       " 'Description of Goods': Series([], Name: Description of Goods, dtype: object),\n",
       " 'QTY': Series([], Name: QTY, dtype: int64),\n",
       " 'Serial#': Series([], Name: Serial#, dtype: object),\n",
       " 'PTAG #': Series([], Name: PTAG #, dtype: object),\n",
       " 'Received Date': Series([], Name: Received Date, dtype: object),\n",
       " 'Return Date': Series([], Name: Return Date, dtype: object),\n",
       " 'Received from': Series([], Name: Received from, dtype: object),\n",
       " 'Status': Series([], Name: Status, dtype: object),\n",
       " 'Project #': Series([], Name: Project #, dtype: object),\n",
       " 'Employee ID': Series([], Name: Employee ID, dtype: int64),\n",
       " '=': Series([], Name: =, dtype: object)}"
      ]
     },
     "execution_count": 7,
     "metadata": {},
     "output_type": "execute_result"
    }
   ],
   "source": [
    "dict(data.loc[data[\"Employee ID\"]==\"Priyanka Vutkur\"])"
   ]
  },
  {
   "cell_type": "code",
   "execution_count": 8,
   "id": "d7cfa7c4",
   "metadata": {},
   "outputs": [],
   "source": [
    "data[\"Employee ID\"]=data[\"Employee ID\"].astype(int)"
   ]
  },
  {
   "cell_type": "code",
   "execution_count": 9,
   "id": "15f807ed",
   "metadata": {},
   "outputs": [
    {
     "name": "stdout",
     "output_type": "stream",
     "text": [
      "<class 'pandas.core.frame.DataFrame'>\n",
      "RangeIndex: 43 entries, 0 to 42\n",
      "Data columns (total 15 columns):\n",
      " #   Column                Non-Null Count  Dtype \n",
      "---  ------                --------------  ----- \n",
      " 0   SL#                   43 non-null     int64 \n",
      " 1   invoces NO            3 non-null      object\n",
      " 2   DC NO                 3 non-null      object\n",
      " 3   MCN                   43 non-null     object\n",
      " 4   Description of Goods  43 non-null     object\n",
      " 5   QTY                   43 non-null     int64 \n",
      " 6   Serial#               42 non-null     object\n",
      " 7   PTAG #                42 non-null     object\n",
      " 8   Received Date         43 non-null     object\n",
      " 9   Return Date           38 non-null     object\n",
      " 10  Received from         43 non-null     object\n",
      " 11  Status                43 non-null     object\n",
      " 12  Project #             43 non-null     object\n",
      " 13  Employee ID           43 non-null     int64 \n",
      " 14  =                     24 non-null     object\n",
      "dtypes: int64(3), object(12)\n",
      "memory usage: 5.2+ KB\n"
     ]
    }
   ],
   "source": [
    "data.info()"
   ]
  },
  {
   "cell_type": "code",
   "execution_count": 12,
   "id": "a755531f",
   "metadata": {},
   "outputs": [],
   "source": [
    "data.columns=['SL#',\n",
    " 'invoces NO',\n",
    " 'DC NO',\n",
    " 'MCN',\n",
    " 'Description of Goods',\n",
    " 'QTY',\n",
    " 'Serial#',\n",
    " 'PTAG #',\n",
    " 'Received Date',\n",
    " 'Return Date',\n",
    " 'Received from',\n",
    " 'Status',\n",
    " 'Project #',\n",
    " 'Employee ID',\n",
    " 'Employee Name']"
   ]
  },
  {
   "cell_type": "code",
   "execution_count": 4,
   "id": "1aa048da",
   "metadata": {},
   "outputs": [],
   "source": [
    " "
   ]
  },
  {
   "cell_type": "code",
   "execution_count": 5,
   "id": "a0494de4",
   "metadata": {},
   "outputs": [
    {
     "name": "stdout",
     "output_type": "stream",
     "text": [
      "   SL# invoces NO DC NO           MCN  \\\n",
      "0    1        NaN   NaN  Data  Switch   \n",
      "\n",
      "                                Description of Goods  QTY      Serial#  \\\n",
      "0  CI-WS3650-48TS/K9: CISCO ONE CATALYST 3650 48 ...    1  FDO2215Q0E9   \n",
      "\n",
      "      PTAG #        Received Date Return Date Received from   Status  \\\n",
      "0  UC0074458  2019-02-21 00:00:00         NaN      Qualcomm  Issued    \n",
      "\n",
      "                 Project #  Employee ID    EMPLOYEE NAME  Employee Email  \n",
      "0  Android Upgrade Project       210458  PRIYANKA VUTKUR             NaN  \n"
     ]
    }
   ],
   "source": [
    "import pandas as pd\n",
    "Read_Excel(\"Qualcomm\",\"priyanka vutkur\",\"Name\")"
   ]
  },
  {
   "cell_type": "code",
   "execution_count": null,
   "id": "8cd0664e",
   "metadata": {},
   "outputs": [],
   "source": []
  }
 ],
 "metadata": {
  "kernelspec": {
   "display_name": "Python 3 (ipykernel)",
   "language": "python",
   "name": "python3"
  },
  "language_info": {
   "codemirror_mode": {
    "name": "ipython",
    "version": 3
   },
   "file_extension": ".py",
   "mimetype": "text/x-python",
   "name": "python",
   "nbconvert_exporter": "python",
   "pygments_lexer": "ipython3",
   "version": "3.9.12"
  }
 },
 "nbformat": 4,
 "nbformat_minor": 5
}
